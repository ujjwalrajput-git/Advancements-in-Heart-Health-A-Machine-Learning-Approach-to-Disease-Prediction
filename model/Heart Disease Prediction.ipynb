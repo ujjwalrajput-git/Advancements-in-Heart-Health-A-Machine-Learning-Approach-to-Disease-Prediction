{
 "cells": [
  {
   "cell_type": "markdown",
   "id": "96296238",
   "metadata": {},
   "source": [
    "# Heart Disease Prediction Using Machine Learning\n",
    "### Name : Ujjwal Rajput\n",
    "### Class Rollno. : 76\n",
    "### Section : A\n",
    "### DataSet : https://www.kaggle.com/code/desalegngeb/heart-disease-predictions/input\n"
   ]
  },
  {
   "cell_type": "code",
   "execution_count": 1,
   "id": "ae2f5ea8",
   "metadata": {},
   "outputs": [
    {
     "ename": "ModuleNotFoundError",
     "evalue": "No module named 'sklearn'",
     "output_type": "error",
     "traceback": [
      "\u001b[1;31m---------------------------------------------------------------------------\u001b[0m",
      "\u001b[1;31mModuleNotFoundError\u001b[0m                       Traceback (most recent call last)",
      "Cell \u001b[1;32mIn[1], line 1\u001b[0m\n\u001b[1;32m----> 1\u001b[0m \u001b[38;5;28;01mimport\u001b[39;00m \u001b[38;5;21;01msklearn\u001b[39;00m\n\u001b[0;32m      2\u001b[0m \u001b[38;5;28;01mimport\u001b[39;00m \u001b[38;5;21;01mnumpy\u001b[39;00m \u001b[38;5;28;01mas\u001b[39;00m \u001b[38;5;21;01mnp\u001b[39;00m\n\u001b[0;32m      3\u001b[0m \u001b[38;5;28;01mimport\u001b[39;00m \u001b[38;5;21;01mpandas\u001b[39;00m \u001b[38;5;28;01mas\u001b[39;00m \u001b[38;5;21;01mpd\u001b[39;00m\n",
      "\u001b[1;31mModuleNotFoundError\u001b[0m: No module named 'sklearn'"
     ]
    }
   ],
   "source": [
    "import sklearn\n",
    "import numpy as np\n",
    "import pandas as pd\n",
    "import plotly as plot\n",
    "import plotly.express as px\n",
    "import plotly.graph_objs as go\n",
    "\n",
    "import cufflinks as cf\n",
    "import matplotlib.pyplot as plt\n",
    "import seaborn as sns\n",
    "import os\n",
    "from sklearn.metrics import accuracy_score,mean_squared_error\n",
    "import plotly.offline as pyo\n",
    "from plotly.offline import init_notebook_mode,plot,iplot\n"
   ]
  },
  {
   "cell_type": "code",
   "execution_count": null,
   "id": "befc8cde",
   "metadata": {},
   "outputs": [],
   "source": [
    "pyo.init_notebook_mode(connected=True)\n",
    "cf.go_offline()"
   ]
  },
  {
   "cell_type": "code",
   "execution_count": null,
   "id": "94b894f5",
   "metadata": {},
   "outputs": [],
   "source": [
    "heart=pd.read_csv('heart.csv')"
   ]
  },
  {
   "cell_type": "code",
   "execution_count": null,
   "id": "ed194c3e",
   "metadata": {},
   "outputs": [],
   "source": [
    "heart"
   ]
  },
  {
   "cell_type": "code",
   "execution_count": null,
   "id": "96d7db2a",
   "metadata": {},
   "outputs": [],
   "source": [
    "info = [\"age\",\"1: male, 0: female\",\"chest pain type, 1: typical angina, 2: atypical angina, 3: non-anginal pain, 4: asymptomatic\",\"resting blood pressure\",\" serum cholestoral in mg/dl\",\"fasting blood sugar > 120 mg/dl\",\"resting electrocardiographic results (values 0,1,2)\",\" maximum heart rate achieved\",\"exercise induced angina\",\"oldpeak = ST depression induced by exercise relative to rest\",\"the slope of the peak exercise ST segment\",\"number of major vessels (0-3) colored by flourosopy\",\"thal: 3 = normal; 6 = fixed defect; 7 = reversable defect\"]\n",
    "\n",
    "\n",
    "\n",
    "for i in range(len(info)):\n",
    "    print(heart.columns[i]+\":\\t\\t\\t\"+info[i])"
   ]
  },
  {
   "cell_type": "code",
   "execution_count": null,
   "id": "f9448ef4",
   "metadata": {},
   "outputs": [],
   "source": [
    "heart['target']"
   ]
  },
  {
   "cell_type": "code",
   "execution_count": null,
   "id": "3fbb0c9c",
   "metadata": {},
   "outputs": [],
   "source": [
    "heart.groupby('target').size()"
   ]
  },
  {
   "cell_type": "code",
   "execution_count": null,
   "id": "5663509f",
   "metadata": {},
   "outputs": [],
   "source": [
    "heart.groupby('target').sum()"
   ]
  },
  {
   "cell_type": "code",
   "execution_count": null,
   "id": "5665eeb9",
   "metadata": {},
   "outputs": [],
   "source": [
    "heart.shape"
   ]
  },
  {
   "cell_type": "code",
   "execution_count": null,
   "id": "32d4016c",
   "metadata": {},
   "outputs": [],
   "source": [
    "heart.size"
   ]
  },
  {
   "cell_type": "code",
   "execution_count": null,
   "id": "ccebcc1f",
   "metadata": {},
   "outputs": [],
   "source": [
    "heart.describe()"
   ]
  },
  {
   "cell_type": "code",
   "execution_count": null,
   "id": "e92a720d",
   "metadata": {},
   "outputs": [],
   "source": [
    "heart.info()"
   ]
  },
  {
   "cell_type": "code",
   "execution_count": null,
   "id": "9f837e71",
   "metadata": {},
   "outputs": [],
   "source": [
    "heart['target'].unique()"
   ]
  },
  {
   "cell_type": "code",
   "execution_count": null,
   "id": "6e2e9190",
   "metadata": {},
   "outputs": [],
   "source": [
    "#histogram visualization"
   ]
  },
  {
   "cell_type": "code",
   "execution_count": null,
   "id": "57ed34a8",
   "metadata": {},
   "outputs": [],
   "source": [
    "heart.hist(figsize=(14,14))\n",
    "plt.show()"
   ]
  },
  {
   "cell_type": "code",
   "execution_count": null,
   "id": "404a508d",
   "metadata": {},
   "outputs": [],
   "source": [
    "plt.bar(x=heart['sex'],height=heart['age'])\n",
    "plt.show()"
   ]
  },
  {
   "cell_type": "code",
   "execution_count": null,
   "id": "8af5daf5",
   "metadata": {},
   "outputs": [],
   "source": [
    "sns.barplot(x=\"fbs\", y=\"target\", data=heart)\n",
    "plt.show()\n"
   ]
  },
  {
   "cell_type": "code",
   "execution_count": null,
   "id": "bc61e921",
   "metadata": {},
   "outputs": [],
   "source": [
    "sns.barplot(x=heart['sex'],y=heart['age'],hue=heart['target'])"
   ]
  },
  {
   "cell_type": "code",
   "execution_count": null,
   "id": "6ed92f46",
   "metadata": {},
   "outputs": [],
   "source": [
    "sns.barplot(x=heart[\"cp\"], y=heart['target'])"
   ]
  },
  {
   "cell_type": "code",
   "execution_count": null,
   "id": "8cdb39e1",
   "metadata": {},
   "outputs": [],
   "source": [
    "sns.barplot(x=heart[\"sex\"],y=heart['target'])"
   ]
  },
  {
   "cell_type": "code",
   "execution_count": null,
   "id": "be5569dc",
   "metadata": {},
   "outputs": [],
   "source": [
    "sns.histplot(heart[\"thal\"],kde=True)"
   ]
  },
  {
   "cell_type": "code",
   "execution_count": null,
   "id": "4875d9c3",
   "metadata": {},
   "outputs": [],
   "source": [
    "sns.histplot(heart[\"chol\"], kde=True)"
   ]
  },
  {
   "cell_type": "code",
   "execution_count": null,
   "id": "a35fb339",
   "metadata": {},
   "outputs": [],
   "source": [
    "sns.pairplot(heart,hue='target')"
   ]
  },
  {
   "cell_type": "code",
   "execution_count": null,
   "id": "a7bacfad",
   "metadata": {},
   "outputs": [],
   "source": [
    "heart"
   ]
  },
  {
   "cell_type": "code",
   "execution_count": null,
   "id": "c57f5bcd",
   "metadata": {},
   "outputs": [],
   "source": [
    "numeric_columns=['trestbps','chol','thalach','age','oldpeak']"
   ]
  },
  {
   "cell_type": "code",
   "execution_count": null,
   "id": "b7e0a1a7",
   "metadata": {},
   "outputs": [],
   "source": [
    "sns.pairplot(heart[numeric_columns])"
   ]
  },
  {
   "cell_type": "code",
   "execution_count": null,
   "id": "728639da",
   "metadata": {},
   "outputs": [],
   "source": [
    "heart['target']"
   ]
  },
  {
   "cell_type": "code",
   "execution_count": null,
   "id": "c513c3fd",
   "metadata": {},
   "outputs": [],
   "source": [
    "y = heart[\"target\"]\n",
    "\n",
    "sns.countplot(x=y)\n",
    "\n",
    "target_temp = heart['target'].value_counts()\n",
    "\n",
    "print(target_temp)"
   ]
  },
  {
   "cell_type": "code",
   "execution_count": null,
   "id": "ee6719a3",
   "metadata": {},
   "outputs": [],
   "source": [
    "#Correlation Heatmap"
   ]
  },
  {
   "cell_type": "code",
   "execution_count": null,
   "id": "e72087e3",
   "metadata": {},
   "outputs": [],
   "source": [
    "\n",
    "sns.heatmap(heart[numeric_columns].corr(),annot=True, cmap='terrain', linewidths=0.1)\n",
    "fig=plt.gcf()\n",
    "fig.set_size_inches(8,6)\n",
    "plt.show()"
   ]
  },
  {
   "cell_type": "code",
   "execution_count": null,
   "id": "bfe72b7e",
   "metadata": {},
   "outputs": [],
   "source": [
    "# create four histplots\n",
    "plt.figure(figsize=(12,10))\n",
    "plt.subplot(221)\n",
    "sns.histplot(heart[heart['target'] == 0]['age'], kde=True)\n",
    "plt.title('Age of patients without heart disease')\n",
    "plt.subplot(222)\n",
    "sns.histplot(heart[heart['target'] == 1]['age'], kde=True)\n",
    "plt.title('Age of patients with heart disease')\n",
    "plt.subplot(223)\n",
    "sns.histplot(heart[heart['target'] == 0]['thalach'], kde=True)\n",
    "plt.title('Max heart rate of patients without heart disease')\n",
    "plt.subplot(224)\n",
    "sns.histplot(heart[heart['target'] == 1]['thalach'], kde=True)\n",
    "plt.title('Max heart rate of patients with heart disease')\n",
    "plt.show()"
   ]
  },
  {
   "cell_type": "code",
   "execution_count": null,
   "id": "5d6839e2",
   "metadata": {},
   "outputs": [],
   "source": [
    "plt.figure(figsize=(13,6))\n",
    "plt.subplot(121)\n",
    "sns.violinplot(x=\"target\", y=\"thalach\", data=heart, inner=None)\n",
    "sns.swarmplot(x=\"target\", y=\"thalach\", data=heart, color='w', alpha=0.5)\n",
    "\n",
    "\n",
    "plt.subplot(122)\n",
    "sns.swarmplot(x=\"target\", y=\"thalach\", data=heart)\n",
    "plt.show()"
   ]
  },
  {
   "cell_type": "code",
   "execution_count": null,
   "id": "de05ced6",
   "metadata": {},
   "outputs": [],
   "source": [
    "heart"
   ]
  },
  {
   "cell_type": "code",
   "execution_count": null,
   "id": "a1fd052c",
   "metadata": {},
   "outputs": [],
   "source": [
    "# create pairplot and two barplots\n",
    "plt.figure(figsize=(16,6))\n",
    "plt.subplot(131)\n",
    "sns.pointplot(x=\"sex\", y=\"target\", hue='cp', data=heart)\n",
    "plt.legend(['male = 1', 'female = 0'])\n",
    "plt.subplot(132)\n",
    "sns.barplot(x=\"exang\", y=\"target\", data=heart)\n",
    "plt.legend(['yes = 1', 'no = 0'])\n",
    "plt.subplot(133)\n",
    "sns.countplot(x=\"slope\", hue='target', data=heart)\n",
    "plt.show()"
   ]
  },
  {
   "cell_type": "markdown",
   "id": "d4ff9561",
   "metadata": {},
   "source": [
    "# DATA PREPROCESSING"
   ]
  },
  {
   "cell_type": "code",
   "execution_count": null,
   "id": "59813628",
   "metadata": {},
   "outputs": [],
   "source": [
    "heart = pd.read_csv('heart.csv')"
   ]
  },
  {
   "cell_type": "code",
   "execution_count": null,
   "id": "ad56c550",
   "metadata": {},
   "outputs": [],
   "source": [
    "heart['target'].value_counts()"
   ]
  },
  {
   "cell_type": "code",
   "execution_count": null,
   "id": "06bfe891",
   "metadata": {},
   "outputs": [],
   "source": [
    "heart['target'].isnull()"
   ]
  },
  {
   "cell_type": "code",
   "execution_count": null,
   "id": "e0ea3f04",
   "metadata": {},
   "outputs": [],
   "source": [
    "heart['target'].sum()"
   ]
  },
  {
   "cell_type": "code",
   "execution_count": null,
   "id": "59d64971",
   "metadata": {},
   "outputs": [],
   "source": [
    "heart['target'].unique()"
   ]
  },
  {
   "cell_type": "code",
   "execution_count": null,
   "id": "0a65993a",
   "metadata": {},
   "outputs": [],
   "source": [
    "heart.isnull().sum()"
   ]
  },
  {
   "cell_type": "markdown",
   "id": "8796a41f",
   "metadata": {},
   "source": [
    "### Storing in X and y"
   ]
  },
  {
   "cell_type": "code",
   "execution_count": null,
   "id": "3a8bd1c0",
   "metadata": {},
   "outputs": [],
   "source": [
    "X,y=heart,heart.target"
   ]
  },
  {
   "cell_type": "code",
   "execution_count": null,
   "id": "c62b0016",
   "metadata": {},
   "outputs": [],
   "source": [
    "X.drop('target',axis=1,inplace=True)"
   ]
  },
  {
   "cell_type": "code",
   "execution_count": null,
   "id": "f33834e1",
   "metadata": {},
   "outputs": [],
   "source": [
    "X"
   ]
  },
  {
   "cell_type": "code",
   "execution_count": null,
   "id": "efd88345",
   "metadata": {},
   "outputs": [],
   "source": [
    "y\n"
   ]
  },
  {
   "cell_type": "code",
   "execution_count": null,
   "id": "32c67aaf",
   "metadata": {},
   "outputs": [],
   "source": [
    "X.shape"
   ]
  },
  {
   "cell_type": "code",
   "execution_count": null,
   "id": "9a919ca8",
   "metadata": {},
   "outputs": [],
   "source": [
    "y.shape"
   ]
  },
  {
   "cell_type": "code",
   "execution_count": null,
   "id": "1c7b87aa",
   "metadata": {},
   "outputs": [],
   "source": [
    "from sklearn.model_selection import train_test_split\n",
    "from sklearn.preprocessing import StandardScaler"
   ]
  },
  {
   "cell_type": "code",
   "execution_count": null,
   "id": "d389fb61",
   "metadata": {},
   "outputs": [],
   "source": [
    "sc = StandardScaler()\n",
    "X = sc.fit_transform(X)"
   ]
  },
  {
   "cell_type": "code",
   "execution_count": null,
   "id": "19d2f564",
   "metadata": {},
   "outputs": [],
   "source": [
    "X_train,X_test,y_train,y_test=train_test_split(X,y,random_state=10,test_size=0.3)"
   ]
  },
  {
   "cell_type": "code",
   "execution_count": null,
   "id": "98c4d5f7",
   "metadata": {},
   "outputs": [],
   "source": [
    "X"
   ]
  },
  {
   "cell_type": "code",
   "execution_count": null,
   "id": "03594831",
   "metadata": {},
   "outputs": [],
   "source": [
    "y_test"
   ]
  },
  {
   "cell_type": "code",
   "execution_count": null,
   "id": "22248141",
   "metadata": {},
   "outputs": [],
   "source": [
    "print (\"train_set_x shape: \" + str(X_train.shape))\n",
    "print (\"train_set_y shape: \" + str(y_train.shape))\n",
    "print (\"test_set_x shape: \" + str(X_test.shape))\n",
    "print (\"test_set_y shape: \" + str(y_test.shape))"
   ]
  },
  {
   "cell_type": "markdown",
   "id": "960189ee",
   "metadata": {},
   "source": [
    "# Model selection"
   ]
  },
  {
   "cell_type": "markdown",
   "id": "1586a436",
   "metadata": {},
   "source": [
    "## Decision Tree Classifier"
   ]
  },
  {
   "cell_type": "code",
   "execution_count": null,
   "id": "1a049639",
   "metadata": {},
   "outputs": [],
   "source": [
    "scores_dict = {}"
   ]
  },
  {
   "cell_type": "code",
   "execution_count": null,
   "id": "b8598fdf",
   "metadata": {},
   "outputs": [],
   "source": [
    "Catagory=['No heart disease','Yes you have Heart Disease...']"
   ]
  },
  {
   "cell_type": "code",
   "execution_count": null,
   "id": "463b92af",
   "metadata": {},
   "outputs": [],
   "source": [
    "from sklearn.tree import DecisionTreeClassifier\n",
    "dt=DecisionTreeClassifier(random_state=42)\n",
    "dt.fit(X_train,y_train)"
   ]
  },
  {
   "cell_type": "code",
   "execution_count": null,
   "id": "331beb15",
   "metadata": {},
   "outputs": [],
   "source": [
    "prediction=dt.predict(X_test)\n",
    "accuracy_dt=accuracy_score(y_test,prediction)*100"
   ]
  },
  {
   "cell_type": "code",
   "execution_count": null,
   "id": "26f64a8c",
   "metadata": {},
   "outputs": [],
   "source": [
    "scores_dict['DecisionTreeClassifier'] = accuracy_dt\n",
    "print(accuracy_dt)"
   ]
  },
  {
   "cell_type": "code",
   "execution_count": null,
   "id": "0c51a6eb",
   "metadata": {},
   "outputs": [],
   "source": [
    "print(\"Accuracy on training set: {:.3f}\".format(dt.score(X_train, y_train)))\n",
    "print(\"Accuracy on test set: {:.3f}\".format(dt.score(X_test, y_test)))"
   ]
  },
  {
   "cell_type": "code",
   "execution_count": null,
   "id": "a6e43a22",
   "metadata": {},
   "outputs": [],
   "source": [
    "y_test"
   ]
  },
  {
   "cell_type": "code",
   "execution_count": null,
   "id": "b150ec6b",
   "metadata": {},
   "outputs": [],
   "source": [
    "print(\"Feature importances:\\n{}\".format(dt.feature_importances_))"
   ]
  },
  {
   "cell_type": "code",
   "execution_count": null,
   "id": "cadf8229",
   "metadata": {},
   "outputs": [],
   "source": [
    "def plot_feature(model, feature_names=None):\n",
    "    plt.figure(figsize=(8, 6))\n",
    "    n_features = 13\n",
    "    if feature_names is None:\n",
    "        feature_names = [f\"Feature {i}\" for i in range(1, n_features + 1)]\n",
    "\n",
    "    plt.barh(range(n_features), model.feature_importances_, align='center')\n",
    "    plt.yticks(np.arange(n_features), feature_names)\n",
    "    plt.xlabel(\"Feature importance\")\n",
    "    plt.ylabel(\"Feature\")\n",
    "    plt.ylim(-1, n_features)\n",
    "\n",
    "feature_name = np.array(heart.columns)\n",
    "plot_feature(dt,feature_name)\n",
    "plt.savefig('feature_importance')\n"
   ]
  },
  {
   "cell_type": "code",
   "execution_count": null,
   "id": "56b58ccd",
   "metadata": {},
   "outputs": [],
   "source": [
    "heart.head()"
   ]
  },
  {
   "cell_type": "code",
   "execution_count": null,
   "id": "94e1bcb9",
   "metadata": {},
   "outputs": [],
   "source": [
    "#X_DT=np.array([[20 ,1, 2,120,143,0,1,120,0,2.0,1,0,1]]) # No disease\n",
    "X_DT = np.array([[63,1,3,145,233,1,0,150,0,2.3,0,0,1]]) # yes disease\n",
    "X_DT = sc.transform(X_DT)\n",
    "X_DT_prediction=dt.predict(X_DT)\n",
    "X_DT_prediction[0]"
   ]
  },
  {
   "cell_type": "code",
   "execution_count": null,
   "id": "e837453c",
   "metadata": {},
   "outputs": [],
   "source": [
    "print(Catagory[int(X_DT_prediction[0])])"
   ]
  },
  {
   "cell_type": "markdown",
   "id": "533f7339",
   "metadata": {},
   "source": [
    "## KNN"
   ]
  },
  {
   "cell_type": "code",
   "execution_count": null,
   "id": "2a2ef4c5",
   "metadata": {},
   "outputs": [],
   "source": [
    "from sklearn.neighbors import KNeighborsClassifier"
   ]
  },
  {
   "cell_type": "code",
   "execution_count": null,
   "id": "c32f967b",
   "metadata": {},
   "outputs": [],
   "source": [
    "k_range=range(1,26)\n",
    "scores={}\n",
    "h_score = 0       # to find the best score\n",
    "best_k=0          # to find the best k\n",
    "scores_list=[]  \n",
    "\n",
    "for k in k_range:\n",
    "    knn=KNeighborsClassifier(n_neighbors=k)\n",
    "    knn.fit(X_train,y_train)\n",
    "    prediction_knn=knn.predict(X_test)\n",
    "    scores[k]=accuracy_score(y_test,prediction_knn)\n",
    "    if scores[k]>h_score:\n",
    "        h_score = scores[k]\n",
    "        best_k = k\n",
    "\n",
    "    scores_list.append(accuracy_score(y_test,prediction_knn))\n",
    "print('The best value of k is {} with score : {}'.format(best_k,h_score))"
   ]
  },
  {
   "cell_type": "code",
   "execution_count": null,
   "id": "2b2058a9",
   "metadata": {},
   "outputs": [],
   "source": [
    "knn=KNeighborsClassifier(n_neighbors=best_k)\n",
    "knn.fit(X_train,y_train)"
   ]
  },
  {
   "cell_type": "code",
   "execution_count": null,
   "id": "174337d6",
   "metadata": {},
   "outputs": [],
   "source": [
    "prediction_knn=knn.predict(X_test)\n",
    "accuracy_knn=accuracy_score(y_test,prediction_knn)*100\n",
    "print('accuracy_score score     : ',accuracy_score(y_test,prediction_knn)*100,'%')\n",
    "print('mean_squared_error score : ',mean_squared_error(y_test,prediction_knn)*100,'%')"
   ]
  },
  {
   "cell_type": "code",
   "execution_count": null,
   "id": "81554e80",
   "metadata": {},
   "outputs": [],
   "source": [
    "scores_dict['KNeighborsClassifier'] = accuracy_knn\n",
    "accuracy_knn"
   ]
  },
  {
   "cell_type": "code",
   "execution_count": null,
   "id": "6047e893",
   "metadata": {},
   "outputs": [],
   "source": [
    "print(\"Accuracy on training set: {:.3f}\".format(knn.score(X_train, y_train)))\n",
    "print(\"Accuracy on test set: {:.3f}\".format(knn.score(X_test, y_test)))"
   ]
  },
  {
   "cell_type": "code",
   "execution_count": null,
   "id": "c02b799c",
   "metadata": {},
   "outputs": [],
   "source": [
    "plt.plot(k_range,scores_list)"
   ]
  },
  {
   "cell_type": "code",
   "execution_count": null,
   "id": "2fe6e64d",
   "metadata": {},
   "outputs": [],
   "source": [
    "X_knn = np.array([[64,1,2,125,309,0,1,131,1,1.8,1,0,3]]) # No disease\n",
    "#X_knn = np.array([[52,1,1,128,205,1,1,184,0,0,2,0,2]]) # yes disease\n",
    "X_knn = sc.transform(X_knn)\n",
    "X_knn_prediction = knn.predict(X_knn)\n",
    "X_knn_prediction[0]"
   ]
  },
  {
   "cell_type": "code",
   "execution_count": null,
   "id": "3472c9d5",
   "metadata": {},
   "outputs": [],
   "source": [
    "print(Catagory[int(X_knn_prediction[0])])"
   ]
  },
  {
   "cell_type": "markdown",
   "id": "247df22a",
   "metadata": {},
   "source": [
    "## SVC"
   ]
  },
  {
   "cell_type": "code",
   "execution_count": null,
   "id": "82baea99",
   "metadata": {},
   "outputs": [],
   "source": [
    "from sklearn.svm import SVC\n",
    "\n",
    "svc = SVC(C=2.0,kernel='rbf',gamma='auto').fit(X_train,y_train)\n",
    "Y_predict = svc.predict(X_test)\n",
    "print('Accuracy score : {:.3f} %'.format(accuracy_score(y_test,Y_predict)*100))\n",
    "scores_dict['SVC'] = accuracy_score(y_test,Y_predict)*100\n"
   ]
  },
  {
   "cell_type": "code",
   "execution_count": null,
   "id": "8163e68d",
   "metadata": {},
   "outputs": [],
   "source": [
    "X_svc = np.array([[64,1,2,125,309,0,1,131,1,1.8,1,0,3]]) # No disease\n",
    "#X_svc = np.array([[52,1,1,128,205,1,1,184,0,0,2,0,2]]) # yes disease\n",
    "X_svc = sc.transform(X_svc)\n",
    "X_svc_prediction = svc.predict(X_svc)\n",
    "X_svc_prediction[0]"
   ]
  },
  {
   "cell_type": "code",
   "execution_count": null,
   "id": "fafc49e8",
   "metadata": {},
   "outputs": [],
   "source": [
    "\n",
    "print(Catagory[int(X_svc_prediction[0])])"
   ]
  },
  {
   "cell_type": "markdown",
   "id": "36610e1e",
   "metadata": {},
   "source": [
    "## Result Compariosion"
   ]
  },
  {
   "cell_type": "code",
   "execution_count": null,
   "id": "6f5c71ae",
   "metadata": {},
   "outputs": [],
   "source": [
    "\n",
    "with sns.color_palette('muted'):\n",
    "    algo_name = list(scores_dict.keys())\n",
    "    scoress = list(scores_dict.values())\n",
    "    sns.set(rc={'figure.figsize': (15, 7)})\n",
    "    plt.xlabel(\"Algorithms\")\n",
    "    plt.ylabel(\"Accuracy score\")\n",
    "    bar_plot = sns.barplot(x=algo_name, y=scoress)\n",
    "    for index, value in enumerate(scoress):\n",
    "        bar_plot.text(index, value + 0.2, str(round(value, 2)), ha='center', va='bottom')\n",
    "    plt.show()\n"
   ]
  }
 ],
 "metadata": {
  "kernelspec": {
   "display_name": "Python 3 (ipykernel)",
   "language": "python",
   "name": "python3"
  },
  "language_info": {
   "codemirror_mode": {
    "name": "ipython",
    "version": 3
   },
   "file_extension": ".py",
   "mimetype": "text/x-python",
   "name": "python",
   "nbconvert_exporter": "python",
   "pygments_lexer": "ipython3",
   "version": "3.8.0"
  }
 },
 "nbformat": 4,
 "nbformat_minor": 5
}
